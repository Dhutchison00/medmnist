{
 "cells": [
  {
   "cell_type": "code",
   "execution_count": null,
   "metadata": {},
   "outputs": [],
   "source": [
    "!pip install medmnist"
   ]
  },
  {
   "cell_type": "code",
   "execution_count": 6,
   "metadata": {},
   "outputs": [
    {
     "ename": "ImportError",
     "evalue": "cannot import name 'Evaluator' from 'medmnist' (c:\\Users\\DHutc\\anaconda3\\envs\\tfenv\\lib\\site-packages\\medmnist\\__init__.py)",
     "output_type": "error",
     "traceback": [
      "\u001b[1;31m---------------------------------------------------------------------------\u001b[0m",
      "\u001b[1;31mImportError\u001b[0m                               Traceback (most recent call last)",
      "Cell \u001b[1;32mIn[6], line 2\u001b[0m\n\u001b[0;32m      1\u001b[0m \u001b[39mimport\u001b[39;00m \u001b[39mmedmnist\u001b[39;00m\n\u001b[1;32m----> 2\u001b[0m \u001b[39mfrom\u001b[39;00m \u001b[39mmedmnist\u001b[39;00m \u001b[39mimport\u001b[39;00m INFO, Evaluator\n\u001b[0;32m      4\u001b[0m \u001b[39m#import tensorflow as tf\u001b[39;00m\n\u001b[0;32m      5\u001b[0m \u001b[39m#from tensorflow import keras\u001b[39;00m\n\u001b[0;32m      6\u001b[0m \u001b[39m#from tensorflow.keras import layers\u001b[39;00m\n",
      "\u001b[1;31mImportError\u001b[0m: cannot import name 'Evaluator' from 'medmnist' (c:\\Users\\DHutc\\anaconda3\\envs\\tfenv\\lib\\site-packages\\medmnist\\__init__.py)"
     ]
    }
   ],
   "source": [
    "import medmnist\n",
    "from medmnist import INFO, Evaluator\n",
    "\n",
    "#import tensorflow as tf\n",
    "#from tensorflow import keras\n",
    "#from tensorflow.keras import layers"
   ]
  },
  {
   "cell_type": "code",
   "execution_count": 2,
   "metadata": {},
   "outputs": [
    {
     "ename": "NameError",
     "evalue": "name 'tf' is not defined",
     "output_type": "error",
     "traceback": [
      "\u001b[1;31m---------------------------------------------------------------------------\u001b[0m",
      "\u001b[1;31mNameError\u001b[0m                                 Traceback (most recent call last)",
      "Cell \u001b[1;32mIn[2], line 2\u001b[0m\n\u001b[0;32m      1\u001b[0m \u001b[39m# see if GPU is available\u001b[39;00m\n\u001b[1;32m----> 2\u001b[0m \u001b[39mprint\u001b[39m(\u001b[39m\"\u001b[39m\u001b[39mNum GPUs Available: \u001b[39m\u001b[39m\"\u001b[39m, \u001b[39mlen\u001b[39m(tf\u001b[39m.\u001b[39mconfig\u001b[39m.\u001b[39mexperimental\u001b[39m.\u001b[39mlist_physical_devices(\u001b[39m'\u001b[39m\u001b[39mGPU\u001b[39m\u001b[39m'\u001b[39m)))\n",
      "\u001b[1;31mNameError\u001b[0m: name 'tf' is not defined"
     ]
    }
   ],
   "source": [
    "# see if GPU is available\n",
    "print(\"Num GPUs Available: \", len(tf.config.experimental.list_physical_devices('GPU')))"
   ]
  },
  {
   "attachments": {},
   "cell_type": "markdown",
   "metadata": {},
   "source": [
    "## Download the Data and set run parameters"
   ]
  },
  {
   "cell_type": "code",
   "execution_count": 5,
   "metadata": {},
   "outputs": [
    {
     "name": "stdout",
     "output_type": "stream",
     "text": [
      "{'python_class': 'PathMNIST', 'description': 'The PathMNIST is based on a prior study for predicting survival from colorectal cancer histology slides, providing a dataset (NCT-CRC-HE-100K) of 100,000 non-overlapping image patches from hematoxylin & eosin stained histological images, and a test dataset (CRC-VAL-HE-7K) of 7,180 image patches from a different clinical center. The dataset is comprised of 9 types of tissues, resulting in a multi-class classification task. We resize the source images of 3×224×224 into 3×28×28, and split NCT-CRC-HE-100K into training and validation set with a ratio of 9:1. The CRC-VAL-HE-7K is treated as the test set.', 'url': 'https://zenodo.org/record/6496656/files/pathmnist.npz?download=1', 'MD5': 'a8b06965200029087d5bd730944a56c1', 'task': 'multi-class', 'label': {'0': 'adipose', '1': 'background', '2': 'debris', '3': 'lymphocytes', '4': 'mucus', '5': 'smooth muscle', '6': 'normal colon mucosa', '7': 'cancer-associated stroma', '8': 'colorectal adenocarcinoma epithelium'}, 'n_channels': 3, 'n_samples': {'train': 89996, 'val': 10004, 'test': 7180}, 'license': 'CC BY 4.0'}\n"
     ]
    },
    {
     "ename": "AttributeError",
     "evalue": "module 'medmnist' has no attribute 'PathMNIST'",
     "output_type": "error",
     "traceback": [
      "\u001b[1;31m---------------------------------------------------------------------------\u001b[0m",
      "\u001b[1;31mAttributeError\u001b[0m                            Traceback (most recent call last)",
      "Cell \u001b[1;32mIn[5], line 15\u001b[0m\n\u001b[0;32m     12\u001b[0m n_channels \u001b[39m=\u001b[39m info[\u001b[39m'\u001b[39m\u001b[39mn_channels\u001b[39m\u001b[39m'\u001b[39m]\n\u001b[0;32m     13\u001b[0m n_classes \u001b[39m=\u001b[39m \u001b[39mlen\u001b[39m(info[\u001b[39m'\u001b[39m\u001b[39mlabel\u001b[39m\u001b[39m'\u001b[39m])\n\u001b[1;32m---> 15\u001b[0m DataClass \u001b[39m=\u001b[39m \u001b[39mgetattr\u001b[39;49m(medmnist, info[\u001b[39m'\u001b[39;49m\u001b[39mpython_class\u001b[39;49m\u001b[39m'\u001b[39;49m])\n\u001b[0;32m     17\u001b[0m train_dataset \u001b[39m=\u001b[39m DataClass(split\u001b[39m=\u001b[39m\u001b[39m'\u001b[39m\u001b[39mtrain\u001b[39m\u001b[39m'\u001b[39m, download\u001b[39m=\u001b[39mdownload)\n\u001b[0;32m     18\u001b[0m test_dataset \u001b[39m=\u001b[39m DataClass(split\u001b[39m=\u001b[39m\u001b[39m'\u001b[39m\u001b[39mtest\u001b[39m\u001b[39m'\u001b[39m, download\u001b[39m=\u001b[39mdownload)\n",
      "\u001b[1;31mAttributeError\u001b[0m: module 'medmnist' has no attribute 'PathMNIST'"
     ]
    }
   ],
   "source": [
    "data_flag = 'pathmnist'\n",
    "# data_flag = 'breastmnist'\n",
    "download = True\n",
    "\n",
    "NUM_EPOCHS = 3\n",
    "BATCH_SIZE = 128\n",
    "lr = 0.01\n",
    "n_classes = 9\n",
    "info = INFO[data_flag]\n",
    "task = info['task']\n",
    "n_channels = info['n_channels']\n",
    "n_classes = len(info['label'])\n",
    "\n",
    "DataClass = getattr(medmnist, info['python_class'])\n",
    "\n",
    "train_dataset = DataClass(split='train', download=download)\n",
    "test_dataset = DataClass(split='test', download=download)"
   ]
  },
  {
   "attachments": {},
   "cell_type": "markdown",
   "metadata": {},
   "source": [
    "## Split the data into training, validation, and test data"
   ]
  },
  {
   "cell_type": "code",
   "execution_count": null,
   "metadata": {},
   "outputs": [],
   "source": [
    "import numpy as np\n",
    "npz_file = np.load('pathmnist.npz')\n",
    "\n",
    "x_train = npz_file['train_images']\n",
    "y_train = npz_file['train_labels']\n",
    "x_val = npz_file['val_images']\n",
    "y_val = npz_file['val_labels']\n",
    "x_test = npz_file['test_images']\n",
    "y_test = npz_file['test_labels']"
   ]
  },
  {
   "attachments": {},
   "cell_type": "markdown",
   "metadata": {},
   "source": [
    "## Info on the train and test dataset"
   ]
  },
  {
   "cell_type": "code",
   "execution_count": null,
   "metadata": {},
   "outputs": [
    {
     "name": "stdout",
     "output_type": "stream",
     "text": [
      "Train:\n",
      "Dataset PathMNIST (pathmnist)\n",
      "    Number of datapoints: 89996\n",
      "    Root location: C:\\Users\\DHutc\\.medmnist\n",
      "    Split: train\n",
      "    Task: multi-class\n",
      "    Number of channels: 3\n",
      "    Meaning of labels: {'0': 'adipose', '1': 'background', '2': 'debris', '3': 'lymphocytes', '4': 'mucus', '5': 'smooth muscle', '6': 'normal colon mucosa', '7': 'cancer-associated stroma', '8': 'colorectal adenocarcinoma epithelium'}\n",
      "    Number of samples: {'train': 89996, 'val': 10004, 'test': 7180}\n",
      "    Description: The PathMNIST is based on a prior study for predicting survival from colorectal cancer histology slides, providing a dataset (NCT-CRC-HE-100K) of 100,000 non-overlapping image patches from hematoxylin & eosin stained histological images, and a test dataset (CRC-VAL-HE-7K) of 7,180 image patches from a different clinical center. The dataset is comprised of 9 types of tissues, resulting in a multi-class classification task. We resize the source images of 3×224×224 into 3×28×28, and split NCT-CRC-HE-100K into training and validation set with a ratio of 9:1. The CRC-VAL-HE-7K is treated as the test set.\n",
      "    License: CC BY 4.0\n",
      "\n",
      "Test:\n",
      "Dataset PathMNIST (pathmnist)\n",
      "    Number of datapoints: 7180\n",
      "    Root location: C:\\Users\\DHutc\\.medmnist\n",
      "    Split: test\n",
      "    Task: multi-class\n",
      "    Number of channels: 3\n",
      "    Meaning of labels: {'0': 'adipose', '1': 'background', '2': 'debris', '3': 'lymphocytes', '4': 'mucus', '5': 'smooth muscle', '6': 'normal colon mucosa', '7': 'cancer-associated stroma', '8': 'colorectal adenocarcinoma epithelium'}\n",
      "    Number of samples: {'train': 89996, 'val': 10004, 'test': 7180}\n",
      "    Description: The PathMNIST is based on a prior study for predicting survival from colorectal cancer histology slides, providing a dataset (NCT-CRC-HE-100K) of 100,000 non-overlapping image patches from hematoxylin & eosin stained histological images, and a test dataset (CRC-VAL-HE-7K) of 7,180 image patches from a different clinical center. The dataset is comprised of 9 types of tissues, resulting in a multi-class classification task. We resize the source images of 3×224×224 into 3×28×28, and split NCT-CRC-HE-100K into training and validation set with a ratio of 9:1. The CRC-VAL-HE-7K is treated as the test set.\n",
      "    License: CC BY 4.0\n"
     ]
    }
   ],
   "source": [
    "print(\"Train:\")\n",
    "print(train_dataset)\n",
    "print()\n",
    "print(\"Test:\")\n",
    "print(test_dataset)"
   ]
  },
  {
   "cell_type": "code",
   "execution_count": null,
   "metadata": {},
   "outputs": [],
   "source": [
    "# print the unique labels in the dataset\n",
    "y_train = keras.utils.to_categorical(train_dataset.labels)\n",
    "#x_train = train_dataset.imgs\n",
    "y_val = keras.utils.to_categorical(y_val)\n",
    "y_test = keras.utils.to_categorical(test_dataset.labels)\n",
    "#x_test = test_dataset.imgs\n",
    "\n",
    "# normalize the input data\n",
    "x_train = x_train.astype('float32') / 255.0\n",
    "x_test = x_test.astype('float32') / 255.0\n",
    "x_val = x_val.astype('float32') / 255.0\n",
    "# resize the input data from 28x28 to 56x56 for resnet\n",
    "x_train = tf.image.resize(x_train, (32, 32))\n",
    "x_test = tf.image.resize(x_test, (32, 32))\n",
    "x_val = tf.image.resize(x_val, (32, 32))"
   ]
  },
  {
   "attachments": {},
   "cell_type": "markdown",
   "metadata": {},
   "source": [
    "## Example of MedMNIST data"
   ]
  },
  {
   "cell_type": "code",
   "execution_count": null,
   "metadata": {},
   "outputs": [
    {
     "data": {
      "image/png": "[encoded data removed]",
      "text/plain": [
       "<Figure size 640x480 with 1 Axes>"
      ]
     },
     "metadata": {},
     "output_type": "display_data"
    }
   ],
   "source": [
    "from matplotlib import pyplot as plt\n",
    "plt.imshow(x_train[20], interpolation='nearest')\n",
    "plt.show()"
   ]
  },
  {
   "cell_type": "code",
   "execution_count": null,
   "metadata": {},
   "outputs": [
    {
     "name": "stdout",
     "output_type": "stream",
     "text": [
      "Model: \"sequential_3\"\n",
      "_________________________________________________________________\n",
      " Layer (type)                Output Shape              Param #   \n",
      "=================================================================\n",
      " resnet50 (Functional)       (None, 2048)              23587712  \n",
      "                                                                 \n",
      " dense_3 (Dense)             (None, 9)                 18441     \n",
      "                                                                 \n",
      "=================================================================\n",
      "Total params: 23,606,153\n",
      "Trainable params: 18,441\n",
      "Non-trainable params: 23,587,712\n",
      "_________________________________________________________________\n"
     ]
    }
   ],
   "source": [
    "# \n",
    "\n",
    "#teacher = tf.keras.applications.resnet50.ResNet50(include_top=True, weights=None, input_shape=(32, 32, 3), classes= n_classes)\n",
    "teacher = keras.models.Sequential([ \n",
    "    tf.keras.applications.resnet.ResNet50(include_top=False, weights='imagenet', pooling = 'avg', input_shape=(32, 32, 3)),\n",
    "    tf.keras.layers.Dense(9, activation='softmax')\n",
    "])\n",
    "# Dont train the pre-trained resnet portiont as it detects features well, just train for the output layer\n",
    "#teacher.layers[0].trainable = False\n",
    "teacher.compile(loss='categorical_crossentropy', optimizer='Adam', metrics=['accuracy', 'category_accuracy'])\n",
    "teacher.summary()"
   ]
  },
  {
   "cell_type": "code",
   "execution_count": 14,
   "metadata": {},
   "outputs": [
    {
     "name": "stdout",
     "output_type": "stream",
     "text": [
      "Epoch 1/10\n",
      "2813/2813 [==============================] - 73s 23ms/step - loss: 2.0003 - accuracy: 0.2613 - val_loss: 1.8697 - val_accuracy: 0.3097\n",
      "Epoch 2/10\n",
      "2813/2813 [==============================] - 65s 23ms/step - loss: 1.8296 - accuracy: 0.3394 - val_loss: 1.7679 - val_accuracy: 0.3638\n",
      "Epoch 3/10\n",
      "2813/2813 [==============================] - 65s 23ms/step - loss: 1.7606 - accuracy: 0.3659 - val_loss: 1.7879 - val_accuracy: 0.3511\n",
      "Epoch 4/10\n",
      "2813/2813 [==============================] - 64s 23ms/step - loss: 1.7091 - accuracy: 0.3862 - val_loss: 1.7673 - val_accuracy: 0.4048\n",
      "Epoch 5/10\n",
      "2813/2813 [==============================] - 65s 23ms/step - loss: 1.6770 - accuracy: 0.3971 - val_loss: 1.6373 - val_accuracy: 0.4142\n",
      "Epoch 6/10\n",
      "2813/2813 [==============================] - 65s 23ms/step - loss: 1.6497 - accuracy: 0.4082 - val_loss: 1.6410 - val_accuracy: 0.4020\n",
      "Epoch 7/10\n",
      "2813/2813 [==============================] - 83s 30ms/step - loss: 1.6264 - accuracy: 0.4165 - val_loss: 1.6730 - val_accuracy: 0.4078\n",
      "Epoch 8/10\n",
      "2813/2813 [==============================] - 102s 36ms/step - loss: 1.6062 - accuracy: 0.4216 - val_loss: 1.5993 - val_accuracy: 0.4290\n",
      "Epoch 9/10\n",
      "2813/2813 [==============================] - 93s 33ms/step - loss: 1.5896 - accuracy: 0.4276 - val_loss: 1.5644 - val_accuracy: 0.4409\n",
      "Epoch 10/10\n",
      "2813/2813 [==============================] - 80s 28ms/step - loss: 1.5740 - accuracy: 0.4335 - val_loss: 1.5782 - val_accuracy: 0.4524\n",
      "225/225 [==============================] - 5s 24ms/step - loss: 1.3883 - accuracy: 0.5139\n"
     ]
    },
    {
     "data": {
      "text/plain": [
       "[1.3883198499679565, 0.5139275789260864]"
      ]
     },
     "execution_count": 14,
     "metadata": {},
     "output_type": "execute_result"
    }
   ],
   "source": [
    "teacher.fit(x_train, y_train, epochs=10, validation_data=(x_val, y_val))\n",
    "# Evaluate resnet on the test data\n",
    "teacher.evaluate(x_test, y_test)"
   ]
  },
  {
   "cell_type": "code",
   "execution_count": 15,
   "metadata": {},
   "outputs": [],
   "source": [
    "# Knowledge Distillation!\n",
    "\n",
    "class Distiller(keras.Model):\n",
    "    def __init__(self, student, teacher):\n",
    "        super().__init__()\n",
    "        self.teacher = teacher\n",
    "        self.student = student\n",
    "\n",
    "    def compile(\n",
    "        self,\n",
    "        optimizer,\n",
    "        metrics,\n",
    "        student_loss_fn,\n",
    "        distillation_loss_fn,\n",
    "        alpha=0.1,\n",
    "        temperature=3,\n",
    "    ):\n",
    "        \"\"\" Configure the distiller.\n",
    "\n",
    "        Args:\n",
    "            optimizer: Keras optimizer for the student weights\n",
    "            metrics: Keras metrics for evaluation\n",
    "            student_loss_fn: Loss function of difference between student\n",
    "                predictions and ground-truth\n",
    "            distillation_loss_fn: Loss function of difference between soft\n",
    "                student predictions and soft teacher predictions\n",
    "            alpha: weight to student_loss_fn and 1-alpha to distillation_loss_fn\n",
    "            temperature: Temperature for softening probability distributions.\n",
    "                Larger temperature gives softer distributions.\n",
    "        \"\"\"\n",
    "        super().compile(optimizer=optimizer, metrics=metrics)\n",
    "        self.student_loss_fn = student_loss_fn\n",
    "        self.distillation_loss_fn = distillation_loss_fn\n",
    "        self.alpha = alpha\n",
    "        self.temperature = temperature\n",
    "\n",
    "    def train_step(self, data):\n",
    "        # Unpack data\n",
    "        x, y = data\n",
    "\n",
    "        # Forward pass of teacher\n",
    "        teacher_predictions = self.teacher(x, training=False)\n",
    "\n",
    "        with tf.GradientTape() as tape:\n",
    "            # Forward pass of student\n",
    "            student_predictions = self.student(x, training=True)\n",
    "\n",
    "            # Compute losses with predetermined loss function\n",
    "            student_loss = self.student_loss_fn(y, student_predictions)\n",
    "\n",
    "            # Compute scaled distillation loss from https://arxiv.org/abs/1503.02531\n",
    "            # The magnitudes of the gradients produced by the soft targets scale\n",
    "            # as 1/T^2, multiply them by T^2 when using both hard and soft targets.\n",
    "            # Distillation is performed with predetermined distillation function\n",
    "            distillation_loss = (\n",
    "                self.distillation_loss_fn(\n",
    "                    tf.nn.softmax(teacher_predictions / self.temperature, axis=1),\n",
    "                    tf.nn.softmax(student_predictions / self.temperature, axis=1),\n",
    "                )\n",
    "                * self.temperature**2\n",
    "            )\n",
    "\n",
    "            loss = self.alpha * student_loss + (1 - self.alpha) * distillation_loss\n",
    "\n",
    "        # Compute gradients\n",
    "        trainable_vars = self.student.trainable_variables\n",
    "        gradients = tape.gradient(loss, trainable_vars)\n",
    "\n",
    "        # Update weights\n",
    "        self.optimizer.apply_gradients(zip(gradients, trainable_vars))\n",
    "\n",
    "        # Update the metrics configured in `compile()`.\n",
    "        self.compiled_metrics.update_state(y, student_predictions)\n",
    "\n",
    "        # Return a dict of performance\n",
    "        results = {m.name: m.result() for m in self.metrics}\n",
    "        results.update(\n",
    "            {\"student_loss\": student_loss, \"distillation_loss\": distillation_loss}\n",
    "        )\n",
    "        return results\n",
    "\n",
    "    def test_step(self, data):\n",
    "        # Unpack the data\n",
    "        x, y = data\n",
    "\n",
    "        # Compute predictions\n",
    "        y_prediction = self.student(x, training=False)\n",
    "\n",
    "        # Calculate the loss\n",
    "        student_loss = self.student_loss_fn(y, y_prediction)\n",
    "\n",
    "        # Update the metrics.\n",
    "        self.compiled_metrics.update_state(y, y_prediction)\n",
    "\n",
    "        # Return a dict of performance\n",
    "        results = {m.name: m.result() for m in self.metrics}\n",
    "        results.update({\"student_loss\": student_loss})\n",
    "        return results\n"
   ]
  },
  {
   "cell_type": "code",
   "execution_count": 16,
   "metadata": {},
   "outputs": [
    {
     "name": "stdout",
     "output_type": "stream",
     "text": [
      "Model: \"sequential_3\"\n",
      "_________________________________________________________________\n",
      " Layer (type)                Output Shape              Param #   \n",
      "=================================================================\n",
      " resnet50 (Functional)       (None, 2048)              23587712  \n",
      "                                                                 \n",
      " dense_3 (Dense)             (None, 9)                 18441     \n",
      "                                                                 \n",
      "=================================================================\n",
      "Total params: 23,606,153\n",
      "Trainable params: 18,441\n",
      "Non-trainable params: 23,587,712\n",
      "_________________________________________________________________\n"
     ]
    }
   ],
   "source": [
    "teacher.summary()"
   ]
  },
  {
   "cell_type": "code",
   "execution_count": 17,
   "metadata": {},
   "outputs": [
    {
     "name": "stdout",
     "output_type": "stream",
     "text": [
      "Model: \"sequential_4\"\n",
      "_________________________________________________________________\n",
      " Layer (type)                Output Shape              Param #   \n",
      "=================================================================\n",
      " zero_padding2d (ZeroPadding  (None, 38, 38, 3)        0         \n",
      " 2D)                                                             \n",
      "                                                                 \n",
      " conv2d (Conv2D)             (None, 16, 16, 64)        101632    \n",
      "                                                                 \n",
      " batch_normalization (BatchN  (None, 16, 16, 64)       256       \n",
      " ormalization)                                                   \n",
      "                                                                 \n",
      " zero_padding2d_1 (ZeroPaddi  (None, 18, 18, 64)       0         \n",
      " ng2D)                                                           \n",
      "                                                                 \n",
      " max_pooling2d (MaxPooling2D  (None, 8, 8, 64)         0         \n",
      " )                                                               \n",
      "                                                                 \n",
      " conv2d_1 (Conv2D)           (None, 8, 8, 64)          4160      \n",
      "                                                                 \n",
      " batch_normalization_1 (Batc  (None, 8, 8, 64)         256       \n",
      " hNormalization)                                                 \n",
      "                                                                 \n",
      " conv2d_2 (Conv2D)           (None, 8, 8, 256)         16640     \n",
      "                                                                 \n",
      " batch_normalization_2 (Batc  (None, 8, 8, 256)        1024      \n",
      " hNormalization)                                                 \n",
      "                                                                 \n",
      " conv2d_3 (Conv2D)           (None, 8, 8, 64)          16448     \n",
      "                                                                 \n",
      " batch_normalization_3 (Batc  (None, 8, 8, 64)         256       \n",
      " hNormalization)                                                 \n",
      "                                                                 \n",
      " conv2d_4 (Conv2D)           (None, 8, 8, 256)         16640     \n",
      "                                                                 \n",
      " batch_normalization_4 (Batc  (None, 8, 8, 256)        1024      \n",
      " hNormalization)                                                 \n",
      "                                                                 \n",
      " conv2d_5 (Conv2D)           (None, 8, 8, 64)          16448     \n",
      "                                                                 \n",
      " batch_normalization_5 (Batc  (None, 8, 8, 64)         256       \n",
      " hNormalization)                                                 \n",
      "                                                                 \n",
      " conv2d_6 (Conv2D)           (None, 8, 8, 256)         16640     \n",
      "                                                                 \n",
      " batch_normalization_6 (Batc  (None, 8, 8, 256)        1024      \n",
      " hNormalization)                                                 \n",
      "                                                                 \n",
      " conv2d_7 (Conv2D)           (None, 8, 8, 64)          16448     \n",
      "                                                                 \n",
      " batch_normalization_7 (Batc  (None, 8, 8, 64)         256       \n",
      " hNormalization)                                                 \n",
      "                                                                 \n",
      " conv2d_8 (Conv2D)           (None, 8, 8, 128)         8320      \n",
      "                                                                 \n",
      " global_average_pooling2d (G  (None, 128)              0         \n",
      " lobalAveragePooling2D)                                          \n",
      "                                                                 \n",
      " dense_4 (Dense)             (None, 512)               66048     \n",
      "                                                                 \n",
      " dense_5 (Dense)             (None, 9)                 4617      \n",
      "                                                                 \n",
      "=================================================================\n",
      "Total params: 288,393\n",
      "Trainable params: 286,217\n",
      "Non-trainable params: 2,176\n",
      "_________________________________________________________________\n"
     ]
    }
   ],
   "source": [
    "student = keras.models.Sequential([\n",
    "    layers.InputLayer(input_shape=(32, 32, 3)),\n",
    "    layers.ZeroPadding2D(padding=3),\n",
    "    layers.Conv2D(64, (23, 23), activation='relu', input_shape=(32, 32, 3)),\n",
    "    layers.BatchNormalization(),\n",
    "    layers.ZeroPadding2D(padding=1),\n",
    "    layers.MaxPooling2D((11, 11), strides=(1, 1)),\n",
    "    layers.Conv2D(64, (1, 1), activation='relu'),\n",
    "    layers.BatchNormalization(),\n",
    "    layers.Conv2D(256, (1, 1), activation='relu'),\n",
    "    layers.BatchNormalization(),\n",
    "    layers.Conv2D(64, (1, 1), activation='relu'),\n",
    "    layers.BatchNormalization(),\n",
    "    layers.Conv2D(256, (1, 1), activation='relu'),\n",
    "    layers.BatchNormalization(),\n",
    "    layers.Conv2D(64, (1, 1), activation='relu'),\n",
    "    layers.BatchNormalization(),\n",
    "    layers.Conv2D(256, (1, 1), activation='relu'),\n",
    "    layers.BatchNormalization(),\n",
    "    layers.Conv2D(64, (1, 1), activation='relu'),\n",
    "    layers.BatchNormalization(),\n",
    "    layers.Conv2D(128, (1, 1), activation='relu'),\n",
    "    layers.GlobalAveragePooling2D(),\n",
    "    layers.Dense(512, activation='relu'),\n",
    "    layers.Dense(n_classes, activation='softmax')\n",
    "])\n",
    "student.summary()\n",
    "# Clone student for later comparison\n",
    "student_clone = keras.models.clone_model(student)"
   ]
  },
  {
   "cell_type": "code",
   "execution_count": 18,
   "metadata": {},
   "outputs": [
    {
     "name": "stdout",
     "output_type": "stream",
     "text": [
      "Epoch 1/3\n"
     ]
    },
    {
     "name": "stderr",
     "output_type": "stream",
     "text": [
      "c:\\Users\\DHutc\\anaconda3\\envs\\tfenv\\lib\\site-packages\\keras\\backend.py:5531: UserWarning: \"`categorical_crossentropy` received `from_logits=True`, but the `output` argument was produced by a Softmax activation and thus does not represent logits. Was this intended?\n",
      "  output, from_logits = _get_logits(\n"
     ]
    },
    {
     "name": "stdout",
     "output_type": "stream",
     "text": [
      "2813/2813 [==============================] - 100s 34ms/step - categorical_accuracy: 0.6245 - accuracy: 0.6245 - student_loss: 0.9928 - distillation_loss: 0.0128 - val_categorical_accuracy: 0.2204 - val_accuracy: 0.2204 - val_student_loss: 3.1221\n",
      "Epoch 2/3\n",
      "2813/2813 [==============================] - 96s 34ms/step - categorical_accuracy: 0.6929 - accuracy: 0.6929 - student_loss: 0.8306 - distillation_loss: 0.0150 - val_categorical_accuracy: 0.1880 - val_accuracy: 0.1880 - val_student_loss: 8.4621\n",
      "Epoch 3/3\n",
      "2813/2813 [==============================] - 96s 34ms/step - categorical_accuracy: 0.7215 - accuracy: 0.7215 - student_loss: 0.7591 - distillation_loss: 0.0162 - val_categorical_accuracy: 0.5195 - val_accuracy: 0.5195 - val_student_loss: 1.7260\n",
      "225/225 [==============================] - 2s 9ms/step - categorical_accuracy: 0.5372 - accuracy: 0.5372 - student_loss: 1.8888\n"
     ]
    },
    {
     "data": {
      "text/plain": [
       "[0.5371866226196289, 0.5371866226196289, 2.2018699645996094]"
      ]
     },
     "execution_count": 18,
     "metadata": {},
     "output_type": "execute_result"
    }
   ],
   "source": [
    "# Initialize and compile distiller\n",
    "distiller = Distiller(student=student, teacher=teacher)\n",
    "distiller.compile(\n",
    "    optimizer=keras.optimizers.Adam(),\n",
    "    metrics=[keras.metrics.CategoricalAccuracy(), 'accuracy'],\n",
    "    student_loss_fn=keras.losses.CategoricalCrossentropy(from_logits=True),\n",
    "    distillation_loss_fn=keras.losses.KLDivergence(),\n",
    "    alpha=0.1,\n",
    "    temperature=10,\n",
    ")\n",
    "\n",
    "# Distill teacher to student\n",
    "student_history = distiller.fit(x_train, y_train, epochs=3, validation_data=(x_val, y_val))\n",
    "\n",
    "# Evaluate student on test dataset\n",
    "distiller.evaluate(x_test, y_test)"
   ]
  },
  {
   "cell_type": "code",
   "execution_count": 19,
   "metadata": {},
   "outputs": [
    {
     "name": "stdout",
     "output_type": "stream",
     "text": [
      "Epoch 1/3\n",
      "2813/2813 [==============================] - 43s 15ms/step - loss: 0.9901 - accuracy: 0.6230 - val_loss: 3.4340 - val_accuracy: 0.2522\n",
      "Epoch 2/3\n",
      "2813/2813 [==============================] - 41s 14ms/step - loss: 0.8306 - accuracy: 0.6889 - val_loss: 3.3876 - val_accuracy: 0.2640\n",
      "Epoch 3/3\n",
      "2813/2813 [==============================] - 42s 15ms/step - loss: 0.7541 - accuracy: 0.7192 - val_loss: 2.0917 - val_accuracy: 0.4016\n",
      "225/225 [==============================] - 2s 8ms/step - loss: 2.7224 - accuracy: 0.3638\n"
     ]
    },
    {
     "data": {
      "text/plain": [
       "[2.7223799228668213, 0.36378830671310425]"
      ]
     },
     "execution_count": 19,
     "metadata": {},
     "output_type": "execute_result"
    }
   ],
   "source": [
    "#Compile and train the student_clone for comparison. If the teacher is good, the student should outperform the student_clone.\n",
    "student_clone.compile(loss='categorical_crossentropy', optimizer='adam', metrics=['accuracy'])\n",
    "student_clone_history = student_clone.fit(x_train, y_train, epochs=3, validation_data=(x_val, y_val))\n",
    "student_clone.evaluate(x_test, y_test)"
   ]
  },
  {
   "attachments": {},
   "cell_type": "markdown",
   "metadata": {},
   "source": [
    "## Plot results"
   ]
  },
  {
   "cell_type": "code",
   "execution_count": 33,
   "metadata": {},
   "outputs": [
    {
     "name": "stdout",
     "output_type": "stream",
     "text": [
      "dict_keys(['categorical_accuracy', 'accuracy', 'student_loss', 'distillation_loss', 'val_categorical_accuracy', 'val_accuracy', 'val_student_loss'])\n"
     ]
    },
    {
     "data": {
      "text/plain": [
       "<matplotlib.legend.Legend at 0x18b9bae06a0>"
      ]
     },
     "execution_count": 33,
     "metadata": {},
     "output_type": "execute_result"
    },
    {
     "data": {
      "image/png": "[encoded data removed]",
      "text/plain": [
       "<Figure size 640x480 with 1 Axes>"
      ]
     },
     "metadata": {},
     "output_type": "display_data"
    }
   ],
   "source": [
    "from matplotlib import pyplot as plt\n",
    "print(student_history.history.keys())\n",
    "plt.plot(student_history.history['val_student_loss'], label='With teacher')\n",
    "plt.plot(student_clone_history.history['val_loss'], label='Without teacher')\n",
    "plt.ylabel('loss')\n",
    "plt.xlabel('epoch')\n",
    "plt.legend()"
   ]
  }
 ],
 "metadata": {
  "kernelspec": {
   "display_name": "Python 3",
   "language": "python",
   "name": "python3"
  },
  "language_info": {
   "codemirror_mode": {
    "name": "ipython",
    "version": 3
   },
   "file_extension": ".py",
   "mimetype": "text/x-python",
   "name": "python",
   "nbconvert_exporter": "python",
   "pygments_lexer": "ipython3",
   "version": "3.9.16"
  },
  "orig_nbformat": 4,
  "vscode": {
   "interpreter": {
    "hash": "84d8a8b5ce4f5fa7a71a54efcb4ea06be49712b813de35ba1dde9d3aabec3463"
   }
  }
 },
 "nbformat": 4,
 "nbformat_minor": 2
}
